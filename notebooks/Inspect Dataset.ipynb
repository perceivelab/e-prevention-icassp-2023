{
 "cells": [
  {
   "cell_type": "markdown",
   "id": "3af48038",
   "metadata": {},
   "source": [
    "# Inspect Dataset"
   ]
  },
  {
   "cell_type": "code",
   "execution_count": 2,
   "id": "7f959820",
   "metadata": {},
   "outputs": [],
   "source": [
    "import os\n",
    "import numpy as np\n",
    "import pandas as pd\n",
    "from pathlib import Path\n",
    "import matplotlib.pyplot as plt\n",
    "\n",
    "base_dir = Path(\"../datasets\")"
   ]
  },
  {
   "cell_type": "markdown",
   "id": "1c25d689",
   "metadata": {},
   "source": [
    "## Track 1 (Subject Identification)"
   ]
  },
  {
   "cell_type": "code",
   "execution_count": 3,
   "id": "ace378f2",
   "metadata": {},
   "outputs": [],
   "source": [
    "t1 = base_dir/Path(\"SPGC_challenge_track_1_release\")\n",
    "t1_train = t1/\"training_data\"\n",
    "t1_test = t1/\"test_data\""
   ]
  },
  {
   "cell_type": "markdown",
   "id": "3121adff",
   "metadata": {},
   "source": [
    "Data are divided in training, validation and test set.\n",
    "All sets contain data from 46 subjects:\n",
    "- in *training_data* folder, each subject has its own folder together with train and validation data.\n",
    "- in *test_data* folder, data are totally anonymus."
   ]
  },
  {
   "cell_type": "code",
   "execution_count": 4,
   "id": "5966e872",
   "metadata": {},
   "outputs": [
    {
     "data": {
      "text/plain": [
       "(46, 521)"
      ]
     },
     "execution_count": 4,
     "metadata": {},
     "output_type": "execute_result"
    }
   ],
   "source": [
    "len(os.listdir(t1_train)), len(os.listdir(t1_test))"
   ]
  },
  {
   "cell_type": "markdown",
   "id": "e3baddc2",
   "metadata": {},
   "source": [
    "Training and validation can contain different number of observations for each subject. Distrbution is the same to both sets."
   ]
  },
  {
   "cell_type": "code",
   "execution_count": 5,
   "id": "dc14db2e",
   "metadata": {},
   "outputs": [],
   "source": [
    "subjects = [\"{:02d}\".format(x) for x in range(46)]\n",
    "num_train_samples = []\n",
    "num_val_samples = []\n",
    "\n",
    "for subject_id in subjects:\n",
    "    sub_train = t1_train/Path(f\"user_{subject_id}/train\")\n",
    "    sub_val = t1_train/Path(f\"user_{subject_id}/val\")\n",
    "    num_train_samples.append(len(os.listdir(sub_train)))\n",
    "    num_val_samples.append(len(os.listdir(sub_val)))"
   ]
  },
  {
   "cell_type": "code",
   "execution_count": 12,
   "id": "944b2c25",
   "metadata": {},
   "outputs": [
    {
     "data": {
      "image/png": "[encoded data removed]",
      "text/plain": [
       "<Figure size 1000x600 with 2 Axes>"
      ]
     },
     "metadata": {},
     "output_type": "display_data"
    }
   ],
   "source": [
    "# Figure Size\n",
    "fig, axs = plt.subplots(2, figsize =(10, 6))\n",
    " \n",
    "# Horizontal Bar Plot\n",
    "axs[0].bar(subjects, num_train_samples)\n",
    "axs[1].bar(subjects, num_val_samples, color='orange')\n",
    "axs[0].axhline(sum(num_train_samples)/len(num_train_samples), linewidth=1, linestyle='--')\n",
    "axs[1].axhline(sum(num_val_samples)/len(num_val_samples), color='orange', linewidth=1, linestyle='--')\n",
    "\n",
    "# Show Plot\n",
    "plt.show()"
   ]
  },
  {
   "cell_type": "markdown",
   "id": "90a33ac8",
   "metadata": {},
   "source": [
    "Data are divided into daily-observations. Let's go deeper into a single observation."
   ]
  },
  {
   "cell_type": "code",
   "execution_count": 8,
   "id": "6d80f965",
   "metadata": {},
   "outputs": [],
   "source": [
    "subject_id = \"02\"\n",
    "sub_train = t1_train/Path(f\"user_{subject_id}/train\")\n",
    "sub_val = t1_train/Path(f\"user_{subject_id}/val\")\n",
    "\n",
    "data = pd.read_csv(sub_train/Path(\"00/data.csv\"))\n",
    "step = pd.read_csv(sub_train/Path(\"00/step.csv\"))"
   ]
  },
  {
   "cell_type": "markdown",
   "id": "ac38a723",
   "metadata": {},
   "source": [
    "A single observation is daily-based and it contains data and step files. \n",
    "Consecutive observations are NOT consecutive days. \n",
    "They were ramdomly sampled.\n",
    "\n",
    "Different days take into acccount different hours during day. "
   ]
  },
  {
   "cell_type": "code",
   "execution_count": 9,
   "id": "eb1e6e46",
   "metadata": {},
   "outputs": [
    {
     "data": {
      "text/html": [
       "<div>\n",
       "<style scoped>\n",
       "    .dataframe tbody tr th:only-of-type {\n",
       "        vertical-align: middle;\n",
       "    }\n",
       "\n",
       "    .dataframe tbody tr th {\n",
       "        vertical-align: top;\n",
       "    }\n",
       "\n",
       "    .dataframe thead th {\n",
       "        text-align: right;\n",
       "    }\n",
       "</style>\n",
       "<table border=\"1\" class=\"dataframe\">\n",
       "  <thead>\n",
       "    <tr style=\"text-align: right;\">\n",
       "      <th></th>\n",
       "      <th>acc_X</th>\n",
       "      <th>acc_Y</th>\n",
       "      <th>acc_Z</th>\n",
       "      <th>gyr_X</th>\n",
       "      <th>gyr_Y</th>\n",
       "      <th>gyr_Z</th>\n",
       "      <th>heartRate</th>\n",
       "      <th>rRInterval</th>\n",
       "      <th>timecol</th>\n",
       "      <th>sleeping</th>\n",
       "    </tr>\n",
       "  </thead>\n",
       "  <tbody>\n",
       "    <tr>\n",
       "      <th>0</th>\n",
       "      <td>0.325136</td>\n",
       "      <td>-0.008786</td>\n",
       "      <td>0.078363</td>\n",
       "      <td>-0.092842</td>\n",
       "      <td>-0.047158</td>\n",
       "      <td>0.109789</td>\n",
       "      <td>0.00</td>\n",
       "      <td>0.00</td>\n",
       "      <td>02:22:25</td>\n",
       "      <td>0</td>\n",
       "    </tr>\n",
       "    <tr>\n",
       "      <th>1</th>\n",
       "      <td>0.133162</td>\n",
       "      <td>-0.004203</td>\n",
       "      <td>0.055093</td>\n",
       "      <td>-0.051800</td>\n",
       "      <td>-0.025900</td>\n",
       "      <td>0.035700</td>\n",
       "      <td>0.00</td>\n",
       "      <td>641.32</td>\n",
       "      <td>02:22:30</td>\n",
       "      <td>0</td>\n",
       "    </tr>\n",
       "    <tr>\n",
       "      <th>2</th>\n",
       "      <td>0.136782</td>\n",
       "      <td>-0.010552</td>\n",
       "      <td>0.048949</td>\n",
       "      <td>-0.095900</td>\n",
       "      <td>-0.089600</td>\n",
       "      <td>0.110600</td>\n",
       "      <td>47.40</td>\n",
       "      <td>873.16</td>\n",
       "      <td>02:22:35</td>\n",
       "      <td>0</td>\n",
       "    </tr>\n",
       "    <tr>\n",
       "      <th>3</th>\n",
       "      <td>0.148215</td>\n",
       "      <td>-0.030664</td>\n",
       "      <td>0.140358</td>\n",
       "      <td>1.188600</td>\n",
       "      <td>1.013600</td>\n",
       "      <td>-1.001000</td>\n",
       "      <td>69.36</td>\n",
       "      <td>841.08</td>\n",
       "      <td>02:22:40</td>\n",
       "      <td>0</td>\n",
       "    </tr>\n",
       "    <tr>\n",
       "      <th>4</th>\n",
       "      <td>0.170486</td>\n",
       "      <td>0.013523</td>\n",
       "      <td>0.024249</td>\n",
       "      <td>0.217700</td>\n",
       "      <td>0.172200</td>\n",
       "      <td>0.100800</td>\n",
       "      <td>70.96</td>\n",
       "      <td>834.52</td>\n",
       "      <td>02:22:45</td>\n",
       "      <td>0</td>\n",
       "    </tr>\n",
       "  </tbody>\n",
       "</table>\n",
       "</div>"
      ],
      "text/plain": [
       "      acc_X     acc_Y     acc_Z     gyr_X     gyr_Y     gyr_Z  heartRate  \\\n",
       "0  0.325136 -0.008786  0.078363 -0.092842 -0.047158  0.109789       0.00   \n",
       "1  0.133162 -0.004203  0.055093 -0.051800 -0.025900  0.035700       0.00   \n",
       "2  0.136782 -0.010552  0.048949 -0.095900 -0.089600  0.110600      47.40   \n",
       "3  0.148215 -0.030664  0.140358  1.188600  1.013600 -1.001000      69.36   \n",
       "4  0.170486  0.013523  0.024249  0.217700  0.172200  0.100800      70.96   \n",
       "\n",
       "   rRInterval   timecol  sleeping  \n",
       "0        0.00  02:22:25         0  \n",
       "1      641.32  02:22:30         0  \n",
       "2      873.16  02:22:35         0  \n",
       "3      841.08  02:22:40         0  \n",
       "4      834.52  02:22:45         0  "
      ]
     },
     "execution_count": 9,
     "metadata": {},
     "output_type": "execute_result"
    }
   ],
   "source": [
    "data.head()"
   ]
  },
  {
   "cell_type": "code",
   "execution_count": 10,
   "id": "9851e287",
   "metadata": {},
   "outputs": [
    {
     "data": {
      "text/html": [
       "<div>\n",
       "<style scoped>\n",
       "    .dataframe tbody tr th:only-of-type {\n",
       "        vertical-align: middle;\n",
       "    }\n",
       "\n",
       "    .dataframe tbody tr th {\n",
       "        vertical-align: top;\n",
       "    }\n",
       "\n",
       "    .dataframe thead th {\n",
       "        text-align: right;\n",
       "    }\n",
       "</style>\n",
       "<table border=\"1\" class=\"dataframe\">\n",
       "  <thead>\n",
       "    <tr style=\"text-align: right;\">\n",
       "      <th></th>\n",
       "      <th>acc_X</th>\n",
       "      <th>acc_Y</th>\n",
       "      <th>acc_Z</th>\n",
       "      <th>gyr_X</th>\n",
       "      <th>gyr_Y</th>\n",
       "      <th>gyr_Z</th>\n",
       "      <th>heartRate</th>\n",
       "      <th>rRInterval</th>\n",
       "      <th>sleeping</th>\n",
       "    </tr>\n",
       "  </thead>\n",
       "  <tbody>\n",
       "    <tr>\n",
       "      <th>count</th>\n",
       "      <td>11821.000000</td>\n",
       "      <td>11821.000000</td>\n",
       "      <td>11821.000000</td>\n",
       "      <td>11821.000000</td>\n",
       "      <td>11821.000000</td>\n",
       "      <td>11821.000000</td>\n",
       "      <td>11821.000000</td>\n",
       "      <td>11821.000000</td>\n",
       "      <td>11821.000000</td>\n",
       "    </tr>\n",
       "    <tr>\n",
       "      <th>mean</th>\n",
       "      <td>-0.020771</td>\n",
       "      <td>-0.123165</td>\n",
       "      <td>0.067678</td>\n",
       "      <td>-0.219323</td>\n",
       "      <td>-0.073429</td>\n",
       "      <td>0.093683</td>\n",
       "      <td>74.961133</td>\n",
       "      <td>828.611465</td>\n",
       "      <td>0.662381</td>\n",
       "    </tr>\n",
       "    <tr>\n",
       "      <th>std</th>\n",
       "      <td>0.335780</td>\n",
       "      <td>0.298990</td>\n",
       "      <td>0.263230</td>\n",
       "      <td>4.552318</td>\n",
       "      <td>4.021721</td>\n",
       "      <td>3.885185</td>\n",
       "      <td>12.452373</td>\n",
       "      <td>111.572005</td>\n",
       "      <td>0.472918</td>\n",
       "    </tr>\n",
       "    <tr>\n",
       "      <th>min</th>\n",
       "      <td>-5.972168</td>\n",
       "      <td>-5.371522</td>\n",
       "      <td>-3.281689</td>\n",
       "      <td>-51.182602</td>\n",
       "      <td>-56.454300</td>\n",
       "      <td>-49.193900</td>\n",
       "      <td>-3.000000</td>\n",
       "      <td>0.000000</td>\n",
       "      <td>0.000000</td>\n",
       "    </tr>\n",
       "    <tr>\n",
       "      <th>25%</th>\n",
       "      <td>-0.032486</td>\n",
       "      <td>-0.232968</td>\n",
       "      <td>-0.001915</td>\n",
       "      <td>-0.077700</td>\n",
       "      <td>-0.077700</td>\n",
       "      <td>0.023100</td>\n",
       "      <td>66.200000</td>\n",
       "      <td>735.720000</td>\n",
       "      <td>0.000000</td>\n",
       "    </tr>\n",
       "    <tr>\n",
       "      <th>50%</th>\n",
       "      <td>0.000672</td>\n",
       "      <td>-0.094571</td>\n",
       "      <td>0.078130</td>\n",
       "      <td>-0.051100</td>\n",
       "      <td>-0.046900</td>\n",
       "      <td>0.050400</td>\n",
       "      <td>70.000000</td>\n",
       "      <td>856.080000</td>\n",
       "      <td>1.000000</td>\n",
       "    </tr>\n",
       "    <tr>\n",
       "      <th>75%</th>\n",
       "      <td>0.041248</td>\n",
       "      <td>-0.002043</td>\n",
       "      <td>0.146689</td>\n",
       "      <td>-0.015556</td>\n",
       "      <td>-0.019600</td>\n",
       "      <td>0.070700</td>\n",
       "      <td>84.000000</td>\n",
       "      <td>905.400000</td>\n",
       "      <td>1.000000</td>\n",
       "    </tr>\n",
       "    <tr>\n",
       "      <th>max</th>\n",
       "      <td>5.712781</td>\n",
       "      <td>3.057290</td>\n",
       "      <td>3.518684</td>\n",
       "      <td>41.145300</td>\n",
       "      <td>55.507900</td>\n",
       "      <td>46.321102</td>\n",
       "      <td>134.541667</td>\n",
       "      <td>1502.760000</td>\n",
       "      <td>1.000000</td>\n",
       "    </tr>\n",
       "  </tbody>\n",
       "</table>\n",
       "</div>"
      ],
      "text/plain": [
       "              acc_X         acc_Y         acc_Z         gyr_X         gyr_Y  \\\n",
       "count  11821.000000  11821.000000  11821.000000  11821.000000  11821.000000   \n",
       "mean      -0.020771     -0.123165      0.067678     -0.219323     -0.073429   \n",
       "std        0.335780      0.298990      0.263230      4.552318      4.021721   \n",
       "min       -5.972168     -5.371522     -3.281689    -51.182602    -56.454300   \n",
       "25%       -0.032486     -0.232968     -0.001915     -0.077700     -0.077700   \n",
       "50%        0.000672     -0.094571      0.078130     -0.051100     -0.046900   \n",
       "75%        0.041248     -0.002043      0.146689     -0.015556     -0.019600   \n",
       "max        5.712781      3.057290      3.518684     41.145300     55.507900   \n",
       "\n",
       "              gyr_Z     heartRate    rRInterval      sleeping  \n",
       "count  11821.000000  11821.000000  11821.000000  11821.000000  \n",
       "mean       0.093683     74.961133    828.611465      0.662381  \n",
       "std        3.885185     12.452373    111.572005      0.472918  \n",
       "min      -49.193900     -3.000000      0.000000      0.000000  \n",
       "25%        0.023100     66.200000    735.720000      0.000000  \n",
       "50%        0.050400     70.000000    856.080000      1.000000  \n",
       "75%        0.070700     84.000000    905.400000      1.000000  \n",
       "max       46.321102    134.541667   1502.760000      1.000000  "
      ]
     },
     "execution_count": 10,
     "metadata": {},
     "output_type": "execute_result"
    }
   ],
   "source": [
    "data.describe()"
   ]
  },
  {
   "cell_type": "markdown",
   "id": "d3aefaae",
   "metadata": {},
   "source": [
    "**Data**\n",
    "\n",
    "Columns:\n",
    "- acc_X, acc_Y, acc_Z. Data from accelorometer (linear acceleration). Valid in [-19.6, 19.6].\n",
    "- gyr_X, gyr_Y, gyr_Z. Data from gyroscope (angular velocity).  Valid in [-573, 573].\n",
    "- heartRate. BPM. Valid > 0.\n",
    "- rRInterval. ms between two R-R. Valid > 0.\n",
    "- timecol. Timestamps.\n",
    "- sleeping. 0 awake, 1 sleeping.\n",
    "\n",
    "All values are mean values in a 5s time window."
   ]
  },
  {
   "cell_type": "code",
   "execution_count": 11,
   "id": "4ecf695e",
   "metadata": {},
   "outputs": [
    {
     "data": {
      "text/html": [
       "<div>\n",
       "<style scoped>\n",
       "    .dataframe tbody tr th:only-of-type {\n",
       "        vertical-align: middle;\n",
       "    }\n",
       "\n",
       "    .dataframe tbody tr th {\n",
       "        vertical-align: top;\n",
       "    }\n",
       "\n",
       "    .dataframe thead th {\n",
       "        text-align: right;\n",
       "    }\n",
       "</style>\n",
       "<table border=\"1\" class=\"dataframe\">\n",
       "  <thead>\n",
       "    <tr style=\"text-align: right;\">\n",
       "      <th></th>\n",
       "      <th>start_time</th>\n",
       "      <th>end_time</th>\n",
       "      <th>totalSteps</th>\n",
       "      <th>stepsWalking</th>\n",
       "      <th>stepsRunning</th>\n",
       "      <th>distance</th>\n",
       "      <th>calories</th>\n",
       "    </tr>\n",
       "  </thead>\n",
       "  <tbody>\n",
       "    <tr>\n",
       "      <th>0</th>\n",
       "      <td>00:03:30</td>\n",
       "      <td>00:04:04</td>\n",
       "      <td>63</td>\n",
       "      <td>63</td>\n",
       "      <td>0</td>\n",
       "      <td>40.59</td>\n",
       "      <td>1.91</td>\n",
       "    </tr>\n",
       "    <tr>\n",
       "      <th>1</th>\n",
       "      <td>00:29:16</td>\n",
       "      <td>00:30:27</td>\n",
       "      <td>27</td>\n",
       "      <td>27</td>\n",
       "      <td>0</td>\n",
       "      <td>16.79</td>\n",
       "      <td>0.82</td>\n",
       "    </tr>\n",
       "    <tr>\n",
       "      <th>2</th>\n",
       "      <td>00:30:41</td>\n",
       "      <td>00:31:09</td>\n",
       "      <td>46</td>\n",
       "      <td>46</td>\n",
       "      <td>0</td>\n",
       "      <td>32.73</td>\n",
       "      <td>1.50</td>\n",
       "    </tr>\n",
       "    <tr>\n",
       "      <th>3</th>\n",
       "      <td>00:31:09</td>\n",
       "      <td>00:32:00</td>\n",
       "      <td>75</td>\n",
       "      <td>75</td>\n",
       "      <td>0</td>\n",
       "      <td>55.11</td>\n",
       "      <td>2.54</td>\n",
       "    </tr>\n",
       "    <tr>\n",
       "      <th>4</th>\n",
       "      <td>00:32:00</td>\n",
       "      <td>00:33:00</td>\n",
       "      <td>70</td>\n",
       "      <td>70</td>\n",
       "      <td>0</td>\n",
       "      <td>47.55</td>\n",
       "      <td>2.17</td>\n",
       "    </tr>\n",
       "  </tbody>\n",
       "</table>\n",
       "</div>"
      ],
      "text/plain": [
       "  start_time  end_time  totalSteps  stepsWalking  stepsRunning  distance  \\\n",
       "0   00:03:30  00:04:04          63            63             0     40.59   \n",
       "1   00:29:16  00:30:27          27            27             0     16.79   \n",
       "2   00:30:41  00:31:09          46            46             0     32.73   \n",
       "3   00:31:09  00:32:00          75            75             0     55.11   \n",
       "4   00:32:00  00:33:00          70            70             0     47.55   \n",
       "\n",
       "   calories  \n",
       "0      1.91  \n",
       "1      0.82  \n",
       "2      1.50  \n",
       "3      2.54  \n",
       "4      2.17  "
      ]
     },
     "execution_count": 11,
     "metadata": {},
     "output_type": "execute_result"
    }
   ],
   "source": [
    "step.head()"
   ]
  },
  {
   "cell_type": "code",
   "execution_count": 12,
   "id": "75da915e",
   "metadata": {},
   "outputs": [
    {
     "data": {
      "text/html": [
       "<div>\n",
       "<style scoped>\n",
       "    .dataframe tbody tr th:only-of-type {\n",
       "        vertical-align: middle;\n",
       "    }\n",
       "\n",
       "    .dataframe tbody tr th {\n",
       "        vertical-align: top;\n",
       "    }\n",
       "\n",
       "    .dataframe thead th {\n",
       "        text-align: right;\n",
       "    }\n",
       "</style>\n",
       "<table border=\"1\" class=\"dataframe\">\n",
       "  <thead>\n",
       "    <tr style=\"text-align: right;\">\n",
       "      <th></th>\n",
       "      <th>totalSteps</th>\n",
       "      <th>stepsWalking</th>\n",
       "      <th>stepsRunning</th>\n",
       "      <th>distance</th>\n",
       "      <th>calories</th>\n",
       "    </tr>\n",
       "  </thead>\n",
       "  <tbody>\n",
       "    <tr>\n",
       "      <th>count</th>\n",
       "      <td>49.000000</td>\n",
       "      <td>49.000000</td>\n",
       "      <td>49.0</td>\n",
       "      <td>49.000000</td>\n",
       "      <td>49.000000</td>\n",
       "    </tr>\n",
       "    <tr>\n",
       "      <th>mean</th>\n",
       "      <td>35.469388</td>\n",
       "      <td>35.469388</td>\n",
       "      <td>0.0</td>\n",
       "      <td>25.203898</td>\n",
       "      <td>1.221837</td>\n",
       "    </tr>\n",
       "    <tr>\n",
       "      <th>std</th>\n",
       "      <td>22.660632</td>\n",
       "      <td>22.660632</td>\n",
       "      <td>0.0</td>\n",
       "      <td>16.774416</td>\n",
       "      <td>0.843454</td>\n",
       "    </tr>\n",
       "    <tr>\n",
       "      <th>min</th>\n",
       "      <td>6.000000</td>\n",
       "      <td>6.000000</td>\n",
       "      <td>0.0</td>\n",
       "      <td>0.000000</td>\n",
       "      <td>0.000000</td>\n",
       "    </tr>\n",
       "    <tr>\n",
       "      <th>25%</th>\n",
       "      <td>18.000000</td>\n",
       "      <td>18.000000</td>\n",
       "      <td>0.0</td>\n",
       "      <td>11.970000</td>\n",
       "      <td>0.590000</td>\n",
       "    </tr>\n",
       "    <tr>\n",
       "      <th>50%</th>\n",
       "      <td>27.000000</td>\n",
       "      <td>27.000000</td>\n",
       "      <td>0.0</td>\n",
       "      <td>16.790000</td>\n",
       "      <td>0.820000</td>\n",
       "    </tr>\n",
       "    <tr>\n",
       "      <th>75%</th>\n",
       "      <td>46.000000</td>\n",
       "      <td>46.000000</td>\n",
       "      <td>0.0</td>\n",
       "      <td>38.830000</td>\n",
       "      <td>1.910000</td>\n",
       "    </tr>\n",
       "    <tr>\n",
       "      <th>max</th>\n",
       "      <td>89.000000</td>\n",
       "      <td>89.000000</td>\n",
       "      <td>0.0</td>\n",
       "      <td>61.380000</td>\n",
       "      <td>3.510000</td>\n",
       "    </tr>\n",
       "  </tbody>\n",
       "</table>\n",
       "</div>"
      ],
      "text/plain": [
       "       totalSteps  stepsWalking  stepsRunning   distance   calories\n",
       "count   49.000000     49.000000          49.0  49.000000  49.000000\n",
       "mean    35.469388     35.469388           0.0  25.203898   1.221837\n",
       "std     22.660632     22.660632           0.0  16.774416   0.843454\n",
       "min      6.000000      6.000000           0.0   0.000000   0.000000\n",
       "25%     18.000000     18.000000           0.0  11.970000   0.590000\n",
       "50%     27.000000     27.000000           0.0  16.790000   0.820000\n",
       "75%     46.000000     46.000000           0.0  38.830000   1.910000\n",
       "max     89.000000     89.000000           0.0  61.380000   3.510000"
      ]
     },
     "execution_count": 12,
     "metadata": {},
     "output_type": "execute_result"
    }
   ],
   "source": [
    "step.describe()"
   ]
  },
  {
   "cell_type": "markdown",
   "id": "325e53c1",
   "metadata": {},
   "source": [
    "**Step**\n",
    "\n",
    "Columns:\n",
    "- start_time, end_time. Timestamps while walking.\n",
    "- totalSteps, stepsWalking, stepsRunning. Number of steps in the given interval.\n",
    "- distance.\n",
    "- calories. "
   ]
  },
  {
   "cell_type": "markdown",
   "id": "2e758792",
   "metadata": {},
   "source": [
    "## Track 2 (Relapse Detection)"
   ]
  },
  {
   "cell_type": "code",
   "execution_count": 13,
   "id": "cdf91d06",
   "metadata": {},
   "outputs": [
    {
     "data": {
      "text/plain": [
       "(10, 10)"
      ]
     },
     "execution_count": 13,
     "metadata": {},
     "output_type": "execute_result"
    }
   ],
   "source": [
    "t2 = base_dir/Path(\"SPGC_challenge_track_2_release\")\n",
    "t2_train = t2/\"training_data\"\n",
    "t2_test = t2/\"test_data\"\n",
    "\n",
    "len(os.listdir(t2_train)), len(os.listdir(t2_test))"
   ]
  },
  {
   "cell_type": "markdown",
   "id": "c0ef6778",
   "metadata": {},
   "source": [
    "Data are divided in training, validation and test set.\n",
    "All sets contain data from 10 subjects that experienced relapses during the data collection:\n",
    "- in *training_data* folder, each subject has its own folder together with train and validation data.\n",
    "- in *test_data* folder, each subject has its own folder with test data.\n",
    "\n",
    "Test and validation data are divided into normal and relapses data.\n",
    "\n",
    "To access observations follow the subsequent format:\n",
    "\n",
    "training_data/user_{user_id}/{set}/{status}/{day} if set is train or val\n",
    "\n",
    "test_data/user_{user_id}/test/{day} if set is test"
   ]
  },
  {
   "cell_type": "code",
   "execution_count": 14,
   "id": "3508f51b",
   "metadata": {},
   "outputs": [],
   "source": [
    "subjects = [\"{:02d}\".format(x) for x in range(10)]\n",
    "num_train_samples_normal = []\n",
    "num_val_samples_normal = []\n",
    "#num_train_samples_relapse = []\n",
    "num_val_samples_relapse = []\n",
    "\n",
    "for subject_id in subjects:\n",
    "    sub_train_normal = t2_train/Path(f\"user_{subject_id}/train/normal\")\n",
    "    #sub_train_relapse = t2_train/Path(f\"user_{subject_id}/train/relapse\")\n",
    "    sub_val_normal = t2_train/Path(f\"user_{subject_id}/val/normal\")\n",
    "    sub_val_relapse = t2_train/Path(f\"user_{subject_id}/val/relapse\")\n",
    "    num_train_samples_normal.append(len(os.listdir(sub_train_normal)))\n",
    "    #num_train_samples_relapse.append(len(os.listdir(sub_train_relapse)))\n",
    "    num_val_samples_normal.append(len(os.listdir(sub_val_normal)))\n",
    "    num_val_samples_relapse.append(len(os.listdir(sub_val_relapse)))"
   ]
  },
  {
   "cell_type": "code",
   "execution_count": 15,
   "id": "1ec0bf91",
   "metadata": {},
   "outputs": [
    {
     "data": {
      "image/png": "[encoded data removed]",
      "text/plain": [
       "<Figure size 1000x600 with 2 Axes>"
      ]
     },
     "metadata": {},
     "output_type": "display_data"
    }
   ],
   "source": [
    "# Figure Size\n",
    "fig, axs = plt.subplots(2, figsize =(10, 6))\n",
    " \n",
    "# Horizontal Bar Plot\n",
    "axs[0].bar(subjects, num_train_samples_normal, color='g', width = 0.5)\n",
    "\n",
    "# Set position of bar on X axis\n",
    "barWidth = 0.25\n",
    "br1 = np.arange(len(subjects))\n",
    "br2 = [x + barWidth for x in br1]\n",
    " \n",
    "axs[1].bar(br1, num_val_samples_normal, color='g', width = barWidth)\n",
    "axs[1].bar(br2, num_val_samples_relapse, color='r', width = barWidth)\n",
    " \n",
    "# Show Plot\n",
    "plt.show()"
   ]
  }
 ],
 "metadata": {
  "kernelspec": {
   "display_name": "pytorch",
   "language": "python",
   "name": "python3"
  },
  "language_info": {
   "codemirror_mode": {
    "name": "ipython",
    "version": 3
   },
   "file_extension": ".py",
   "mimetype": "text/x-python",
   "name": "python",
   "nbconvert_exporter": "python",
   "pygments_lexer": "ipython3",
   "version": "3.8.13 (default, Mar 28 2022, 11:38:47) \n[GCC 7.5.0]"
  },
  "vscode": {
   "interpreter": {
    "hash": "000d80ed2087394a6b578f046794fbe46f974e9842e1e873401be47fee2626f9"
   }
  }
 },
 "nbformat": 4,
 "nbformat_minor": 5
}
